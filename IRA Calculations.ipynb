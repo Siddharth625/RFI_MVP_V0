{
 "cells": [
  {
   "cell_type": "code",
   "execution_count": 2,
   "id": "4f82a86f",
   "metadata": {},
   "outputs": [],
   "source": [
    "import numpy as np\n",
    "import pandas as pd"
   ]
  },
  {
   "cell_type": "code",
   "execution_count": 3,
   "id": "a6b9a6ac",
   "metadata": {},
   "outputs": [],
   "source": [
    "# Inputs\n",
    "energy_consumption_old = 2000 #KWh\n",
    "energy_consumption_new = 1500 #KWh\n",
    "bld_sq_footage = 210000 #sq.foot"
   ]
  },
  {
   "cell_type": "code",
   "execution_count": 4,
   "id": "0fa78df3",
   "metadata": {},
   "outputs": [
    {
     "data": {
      "text/plain": [
       "0.25"
      ]
     },
     "execution_count": 4,
     "metadata": {},
     "output_type": "execute_result"
    }
   ],
   "source": [
    "energy_eff = ((energy_consumption_old - energy_consumption_new)/energy_consumption_old)\n",
    "energy_eff"
   ]
  },
  {
   "cell_type": "code",
   "execution_count": 10,
   "id": "f6894589",
   "metadata": {},
   "outputs": [],
   "source": [
    "# Bonus Deduction Flags\n",
    "prevailing_wage = 0\n",
    "apprenticeship_hours = 0"
   ]
  },
  {
   "attachments": {},
   "cell_type": "markdown",
   "id": "2651fc86",
   "metadata": {},
   "source": [
    "## IRA Limitations\n",
    "\n",
    "#### >ASHRAE standard in effect from 4 years prior to completion of construction\n",
    "#### >Property capital cost value (installation cost) should not be greater IRA deduction\n",
    "#### >Building modeling must be done by a contractor or P.E. licensed in the state where the building is located\n",
    "\n",
    "## Bonus Deduction Criteria\n",
    "#### >Meet the local prevailing wage (IRS)\n",
    "#### >Meet apprenticeship percentage hours for up to 15% of labor hours (IRS)\n",
    "\n",
    "## Extra Information\n",
    "#### >A 3-year cap that allows IRC section 179D to be claimed on buildings if the previous full deduction claim occured more than 3 taxable years ago\n",
    "#### >Owners/Tenants who made the installments can claim the tax rebate\n",
    "#### https://www.youtube.com/watch?v=lOCQwn8OkC0"
   ]
  },
  {
   "attachments": {},
   "cell_type": "markdown",
   "id": "06d6c9ae",
   "metadata": {},
   "source": [
    "## IRA Deduction 179D"
   ]
  },
  {
   "cell_type": "code",
   "execution_count": 26,
   "id": "14c9da18",
   "metadata": {},
   "outputs": [],
   "source": [
    "Section179D_params = {\n",
    "    'Base_Deduction_High' : 1.00,\n",
    "    'Base_Deduction_Low' : 0.50,\n",
    "    'Base_Deduction_Inc' : 0.02,\n",
    "    'Bonus_Deduction_High' : 5.00,\n",
    "    'Bonus_Deduction_Low' : 2.50,\n",
    "    'Bonus_Deduction_Inc' : 0.10,\n",
    "    'Energy_Efficiency_Low' : 0.25,\n",
    "    'Energy_Efficiency_High' : 0.50,\n",
    "    'Prevailing_Wages_Law' : 1,\n",
    "    'Apprenticeship_Hours_Met' : 1,\n",
    "}"
   ]
  },
  {
   "cell_type": "code",
   "execution_count": 27,
   "id": "e9bc2754",
   "metadata": {},
   "outputs": [],
   "source": [
    "def IRA_179D (energy_eff, bld_sq_footage, Section179D_params):\n",
    "    base_deduction = 0\n",
    "    bonus_deduction = 0\n",
    "    # Base Deduction \n",
    "    if energy_eff >= Section179D_params['Energy_Efficiency_High']:\n",
    "        base_deduction = Section179D_params['Base_Deduction_High'] * bld_sq_footage\n",
    "    elif energy_eff > Section179D_params['Energy_Efficiency_Low'] \\\n",
    "         and energy_eff < Section179D_params['Energy_Efficiency_High']:\n",
    "        additional_percent = energy_eff - Section179D_params['Energy_Efficiency_Low']\n",
    "        base_deduction = Section179D_params['Base_Deduction_Low'] * bld_sq_footage\n",
    "        base_deduction = base_deduction + \\\n",
    "                        (Section179D_params['Base_Deduction_Inc'] * additional_percent * bld_sq_footage)\n",
    "    else:\n",
    "        base_deduction = Section179D_params['Base_Deduction_Low'] * bld_sq_footage\n",
    "    \n",
    "    # Bonus Deduction\n",
    "    if (Section179D_params['Prevailing_Wages_Law'] == 1 and Section179D_params['Apprenticeship_Hours_Met'] == 1):\n",
    "        if energy_eff >= Section179D_params['Energy_Efficiency_High']:\n",
    "            bonus_deduction = Section179D_params['Bonus_Deduction_High'] * bld_sq_footage\n",
    "        elif energy_eff > Section179D_params['Energy_Efficiency_Low'] \\\n",
    "            and energy_eff < Section179D_params['Energy_Efficiency_High']:\n",
    "            additional_percent = energy_eff - Section179D_params['Energy_Efficiency_Low']\n",
    "            bonus_deduction = Section179D_params['Bonus_Deduction_Low'] * bld_sq_footage\n",
    "            bonus_deduction = bonus_deduction + \\\n",
    "                              (Section179D_params['Bonus_Deduction_Inc'] * additional_percent * bld_sq_footage)\n",
    "        else:\n",
    "            bonus_deduction = Section179D_params['Bonus_Deduction_Low'] * bld_sq_footage\n",
    "    return (base_deduction, bonus_deduction)"
   ]
  },
  {
   "cell_type": "code",
   "execution_count": 29,
   "id": "fd79db02",
   "metadata": {},
   "outputs": [
    {
     "name": "stdout",
     "output_type": "stream",
     "text": [
      "(210000.0, 1050000.0)\n"
     ]
    }
   ],
   "source": [
    "print(IRA_179D(0.50, 210000, Section179D_params))"
   ]
  },
  {
   "attachments": {},
   "cell_type": "markdown",
   "id": "ad70c4a6",
   "metadata": {},
   "source": [
    "## ITC Calculation"
   ]
  },
  {
   "cell_type": "code",
   "execution_count": 65,
   "id": "512e623a",
   "metadata": {},
   "outputs": [],
   "source": [
    "labor_requirement = 1\n",
    "domestic_content = 1\n",
    "energy_community = 0"
   ]
  },
  {
   "cell_type": "code",
   "execution_count": 66,
   "id": "fc1da828",
   "metadata": {},
   "outputs": [],
   "source": [
    "def ITC_vs_PTC(project_cost,kwh_generated,labor_requirement,domestic_content,energy_community):\n",
    "    # ITC Calculation\n",
    "    if labor_requirement == 1:\n",
    "        itc_tax_credit = project_cost * 0.30\n",
    "        if domestic_content == 1 and energy_community == 1:\n",
    "            itc_tax_credit = itc_tax_credit + 2*(project_cost * 0.10)\n",
    "        elif domestic_content == 0 and energy_community == 1:\n",
    "            itc_tax_credit = itc_tax_credit + (project_cost * 0.10)\n",
    "        elif domestic_content == 1 and energy_community == 0:\n",
    "            itc_tax_credit = itc_tax_credit + (project_cost * 0.10)\n",
    "    else:\n",
    "        itc_tax_credit = project_cost * 0.06\n",
    "        if domestic_content == 1 and energy_community == 1:\n",
    "            itc_tax_credit = itc_tax_credit + 2*(project_cost * 0.02)\n",
    "        elif domestic_content == 0 and energy_community == 1:\n",
    "            itc_tax_credit = itc_tax_credit + (project_cost * 0.02)\n",
    "        elif domestic_content == 1 and energy_community == 0:\n",
    "            itc_tax_credit = itc_tax_credit + (project_cost * 0.02)\n",
    "            \n",
    "    # PTC Calculation\n",
    "    if labor_requirement == 1:\n",
    "        ptc_tax_credit = kwh_generated * 0.0275\n",
    "        if domestic_content == 1 and energy_community == 1:\n",
    "            ptc_tax_credit = ptc_tax_credit + 2*(kwh_generated * 0.003)\n",
    "        elif domestic_content == 0 and energy_community == 1:\n",
    "            ptc_tax_credit = ptc_tax_credit + (kwh_generated * 0.003)\n",
    "        elif domestic_content == 1 and energy_community == 0:\n",
    "            ptc_tax_credit = ptc_tax_credit + (kwh_generated * 0.003)\n",
    "    else:\n",
    "        ptc_tax_credit = kwh_generated * 0.0055\n",
    "        if domestic_content == 1 and energy_community == 1:\n",
    "            ptc_tax_credit = ptc_tax_credit + 2*(kwh_generated * 0.001)\n",
    "        elif domestic_content == 0 and energy_community == 1:\n",
    "            ptc_tax_credit = ptc_tax_credit + (kwh_generated * 0.001)\n",
    "        elif domestic_content == 1 and energy_community == 0:\n",
    "            ptc_tax_credit = ptc_tax_credit + (kwh_generated * 0.001)\n",
    "    print(\"ITC Tax Credit: \",itc_tax_credit)\n",
    "    print(\"PTC Tax Credit: \",ptc_tax_credit)\n",
    "    \n",
    "    # Check for which is greater (only 1 can be claimed)\n",
    "    if itc_tax_credit >= ptc_tax_credit:\n",
    "        return itc_tax_credit\n",
    "    else:\n",
    "        return ptc_tax_credit"
   ]
  },
  {
   "cell_type": "code",
   "execution_count": 67,
   "id": "a208d360",
   "metadata": {},
   "outputs": [
    {
     "name": "stdout",
     "output_type": "stream",
     "text": [
      "ITC Tax Credit:  40000.0\n",
      "PTC Tax Credit:  82350.0\n",
      "82350.0\n"
     ]
    }
   ],
   "source": [
    "print(ITC_vs_PTC(100000,2700000,labor_requirement,domestic_content,energy_community))"
   ]
  },
  {
   "attachments": {},
   "cell_type": "markdown",
   "id": "de3424e4",
   "metadata": {},
   "source": [
    "## CPACE Finance"
   ]
  },
  {
   "cell_type": "code",
   "execution_count": 13,
   "id": "b4109c0b",
   "metadata": {},
   "outputs": [],
   "source": [
    "# Input Parameters\n",
    "loan_tenure = 10 #years\n",
    "property_value = 2000000 #dollars\n",
    "project_cost = 1000000\n",
    "periods = 12 # monthly"
   ]
  },
  {
   "cell_type": "code",
   "execution_count": 10,
   "id": "d219698b",
   "metadata": {},
   "outputs": [],
   "source": [
    "def CPACE_finance(loan_tenure, property_value, project_cost, periods):\n",
    "    # If the project cost is greater than the property value, 20-30% of the property value is granted as the loan amount.\n",
    "    # We have taken an average of 25% for test\n",
    "    if project_cost >= property_value:\n",
    "        loan_amount = 0.25 * property_value\n",
    "    else:\n",
    "        loan_amount = project_cost\n",
    "        \n",
    "    if loan_tenure <= 10:\n",
    "        max_interest_rate = 0.055\n",
    "        min_interest_rate = 0.05\n",
    "        \n",
    "    elif loan_tenure > 10 and loan_tenure <=15:\n",
    "        max_interest_rate = 0.06\n",
    "        min_interest_rate = 0.055\n",
    "    else:\n",
    "        max_interest_rate = 0.0625\n",
    "        min_interest_rate = 0.06\n",
    "    \n",
    "    total_amount_max = loan_amount * (1 + (max_interest_rate/periods))**(periods*loan_tenure)\n",
    "    total_interest_max = total_amount_max - loan_amount\n",
    "\n",
    "    total_amount_min = loan_amount * (1 + (min_interest_rate/periods))**(periods*loan_tenure)\n",
    "    total_interest_min = total_amount_min - loan_amount\n",
    "    \n",
    "    return total_interest_max, total_interest_min"
   ]
  },
  {
   "cell_type": "code",
   "execution_count": 11,
   "id": "9c79fe0a",
   "metadata": {},
   "outputs": [],
   "source": [
    "max_int, min_int = CPACE_finance(loan_tenure, property_value, project_cost, periods)"
   ]
  },
  {
   "cell_type": "code",
   "execution_count": 12,
   "id": "a9e88aef",
   "metadata": {},
   "outputs": [
    {
     "name": "stdout",
     "output_type": "stream",
     "text": [
      "Max Interest Amount :  731076.4170660307\n",
      "Min Interest Amount :  647009.49769028\n"
     ]
    }
   ],
   "source": [
    "print(\"Max Interest Amount : \",max_int)\n",
    "print(\"Min Interest Amount : \",min_int)"
   ]
  },
  {
   "cell_type": "code",
   "execution_count": null,
   "id": "c8eb9542",
   "metadata": {},
   "outputs": [],
   "source": []
  },
  {
   "cell_type": "code",
   "execution_count": 59,
   "id": "8a420997",
   "metadata": {},
   "outputs": [],
   "source": [
    "def solve(A):\n",
    "        if A == 1:\n",
    "            return str(A) + \" \"\n",
    "        return solve(A - 1) + str(A) + \" \""
   ]
  },
  {
   "cell_type": "code",
   "execution_count": 61,
   "id": "66b3bb0e",
   "metadata": {},
   "outputs": [
    {
     "data": {
      "text/plain": [
       "'1 2 3 4 5 6 7 8 9 10 11 12 13 14 15 16 17 18 '"
      ]
     },
     "execution_count": 61,
     "metadata": {},
     "output_type": "execute_result"
    }
   ],
   "source": [
    "solve(18)"
   ]
  },
  {
   "cell_type": "code",
   "execution_count": null,
   "id": "a03215ec",
   "metadata": {},
   "outputs": [],
   "source": []
  }
 ],
 "metadata": {
  "kernelspec": {
   "display_name": "Python 3 (ipykernel)",
   "language": "python",
   "name": "python3"
  },
  "language_info": {
   "codemirror_mode": {
    "name": "ipython",
    "version": 3
   },
   "file_extension": ".py",
   "mimetype": "text/x-python",
   "name": "python",
   "nbconvert_exporter": "python",
   "pygments_lexer": "ipython3",
   "version": "3.11.0"
  }
 },
 "nbformat": 4,
 "nbformat_minor": 5
}
