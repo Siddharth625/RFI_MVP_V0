{
 "cells": [
  {
   "cell_type": "code",
   "execution_count": 1,
   "id": "4f82a86f",
   "metadata": {},
   "outputs": [],
   "source": [
    "import numpy as np\n",
    "import pandas as pd"
   ]
  },
  {
   "cell_type": "code",
   "execution_count": 47,
   "id": "a6b9a6ac",
   "metadata": {},
   "outputs": [],
   "source": [
    "# Inputs\n",
    "energy_consumption_old = 2000 #KWh\n",
    "energy_consumption_new = 1500 #KWh\n",
    "bld_sq_footage = 75000 #sq.foot"
   ]
  },
  {
   "cell_type": "code",
   "execution_count": 16,
   "id": "0fa78df3",
   "metadata": {},
   "outputs": [
    {
     "data": {
      "text/plain": [
       "0.25"
      ]
     },
     "execution_count": 16,
     "metadata": {},
     "output_type": "execute_result"
    }
   ],
   "source": [
    "energy_eff = ((energy_consumption_old - energy_consumption_new)/energy_consumption_old)\n",
    "energy_eff"
   ]
  },
  {
   "cell_type": "code",
   "execution_count": 17,
   "id": "f6894589",
   "metadata": {},
   "outputs": [],
   "source": [
    "# Bonus Deduction Flags\n",
    "prevailing_wage = 0\n",
    "apprenticeship_hours = 0"
   ]
  },
  {
   "attachments": {},
   "cell_type": "markdown",
   "id": "2651fc86",
   "metadata": {},
   "source": [
    "## IRA Limitations\n",
    "\n",
    "#### >ASHRAE standard in effect from 4 years prior to completion of construction\n",
    "#### >Property capital cost value (installation cost) should not be greater IRA deduction\n",
    "#### >Building modeling must be done by a contractor or P.E. licensed in the state where the building is located\n",
    "\n",
    "## Bonus Deduction Criteria\n",
    "#### >Meet the local prevailing wage (IRS)\n",
    "#### >Meet apprenticeship percentage hours for up to 15% of labor hours (IRS)\n",
    "\n",
    "## Extra Information\n",
    "#### >A 3-year cap that allows IRC section 179D to be claimed on buildings if the previous full deduction claim occured more than 3 taxable years ago\n",
    "#### >Owners/Tenants who made the installments can claim the tax rebate\n",
    "#### https://www.youtube.com/watch?v=lOCQwn8OkC0"
   ]
  },
  {
   "attachments": {},
   "cell_type": "markdown",
   "id": "06d6c9ae",
   "metadata": {},
   "source": [
    "## IRA Deduction 179D"
   ]
  },
  {
   "cell_type": "code",
   "execution_count": 18,
   "id": "14c9da18",
   "metadata": {},
   "outputs": [],
   "source": [
    "Section179D_params = {\n",
    "    'Base_Deduction_High' : 1.00,\n",
    "    'Base_Deduction_Low' : 0.50,\n",
    "    'Base_Deduction_Inc' : 0.02,\n",
    "    'Bonus_Deduction_High' : 5.00,\n",
    "    'Bonus_Deduction_Low' : 2.50,\n",
    "    'Bonus_Deduction_Inc' : 0.10,\n",
    "    'Energy_Efficiency_Low' : 0.25,\n",
    "    'Energy_Efficiency_High' : 0.50,\n",
    "    'Prevailing_Wages_Law' : 1,\n",
    "    'Apprenticeship_Hours_Met' : 1,\n",
    "}"
   ]
  },
  {
   "cell_type": "code",
   "execution_count": 19,
   "id": "e9bc2754",
   "metadata": {},
   "outputs": [],
   "source": [
    "def IRA_179D (energy_eff, bld_sq_footage, Section179D_params):\n",
    "    base_deduction = 0\n",
    "    bonus_deduction = 0\n",
    "    # Base Deduction \n",
    "    if energy_eff >= Section179D_params['Energy_Efficiency_High']:\n",
    "        base_deduction = Section179D_params['Base_Deduction_High'] * bld_sq_footage\n",
    "    elif energy_eff > Section179D_params['Energy_Efficiency_Low'] \\\n",
    "         and energy_eff < Section179D_params['Energy_Efficiency_High']:\n",
    "        additional_percent = energy_eff - Section179D_params['Energy_Efficiency_Low']\n",
    "        base_deduction = Section179D_params['Base_Deduction_Low'] * bld_sq_footage\n",
    "        base_deduction = base_deduction + \\\n",
    "                        (Section179D_params['Base_Deduction_Inc'] * additional_percent * bld_sq_footage)\n",
    "    else:\n",
    "        base_deduction = Section179D_params['Base_Deduction_Low'] * bld_sq_footage\n",
    "    \n",
    "    # Bonus Deduction\n",
    "    if (Section179D_params['Prevailing_Wages_Law'] == 1 and Section179D_params['Apprenticeship_Hours_Met'] == 1):\n",
    "        if energy_eff >= Section179D_params['Energy_Efficiency_High']:\n",
    "            bonus_deduction = Section179D_params['Bonus_Deduction_High'] * bld_sq_footage\n",
    "        elif energy_eff > Section179D_params['Energy_Efficiency_Low'] \\\n",
    "            and energy_eff < Section179D_params['Energy_Efficiency_High']:\n",
    "            additional_percent = energy_eff - Section179D_params['Energy_Efficiency_Low']\n",
    "            bonus_deduction = Section179D_params['Bonus_Deduction_Low'] * bld_sq_footage\n",
    "            bonus_deduction = bonus_deduction + \\\n",
    "                              (Section179D_params['Bonus_Deduction_Inc'] * additional_percent * bld_sq_footage)\n",
    "        else:\n",
    "            bonus_deduction = Section179D_params['Bonus_Deduction_Low'] * bld_sq_footage\n",
    "    return (base_deduction, bonus_deduction)"
   ]
  },
  {
   "cell_type": "code",
   "execution_count": 20,
   "id": "fd79db02",
   "metadata": {},
   "outputs": [
    {
     "name": "stdout",
     "output_type": "stream",
     "text": [
      "(85000.0, 425000.0)\n"
     ]
    }
   ],
   "source": [
    "print(IRA_179D(0.50, bld_sq_footage, Section179D_params))"
   ]
  },
  {
   "attachments": {},
   "cell_type": "markdown",
   "id": "ad70c4a6",
   "metadata": {},
   "source": [
    "## ITC Calculation"
   ]
  },
  {
   "cell_type": "code",
   "execution_count": 63,
   "id": "512e623a",
   "metadata": {},
   "outputs": [],
   "source": [
    "labor_requirement = 1\n",
    "domestic_content = 0\n",
    "energy_community = 0"
   ]
  },
  {
   "cell_type": "code",
   "execution_count": 64,
   "id": "fc1da828",
   "metadata": {},
   "outputs": [],
   "source": [
    "def ITC_vs_PTC(project_cost,kwh_generated,labor_requirement,domestic_content,energy_community):\n",
    "    # ITC Calculation\n",
    "    if labor_requirement == 1:\n",
    "        itc_tax_credit = project_cost * 0.30\n",
    "        if domestic_content == 1 and energy_community == 1:\n",
    "            itc_tax_credit = itc_tax_credit + 2*(project_cost * 0.10)\n",
    "        elif domestic_content == 0 and energy_community == 1:\n",
    "            itc_tax_credit = itc_tax_credit + (project_cost * 0.10)\n",
    "        elif domestic_content == 1 and energy_community == 0:\n",
    "            itc_tax_credit = itc_tax_credit + (project_cost * 0.10)\n",
    "    else:\n",
    "        itc_tax_credit = project_cost * 0.06\n",
    "        if domestic_content == 1 and energy_community == 1:\n",
    "            itc_tax_credit = itc_tax_credit + 2*(project_cost * 0.02)\n",
    "        elif domestic_content == 0 and energy_community == 1:\n",
    "            itc_tax_credit = itc_tax_credit + (project_cost * 0.02)\n",
    "        elif domestic_content == 1 and energy_community == 0:\n",
    "            itc_tax_credit = itc_tax_credit + (project_cost * 0.02)\n",
    "            \n",
    "    # PTC Calculation\n",
    "    if labor_requirement == 1:\n",
    "        ptc_tax_credit = kwh_generated * 0.0275\n",
    "        if domestic_content == 1 and energy_community == 1:\n",
    "            ptc_tax_credit = ptc_tax_credit + 2*(kwh_generated * 0.003)\n",
    "        elif domestic_content == 0 and energy_community == 1:\n",
    "            ptc_tax_credit = ptc_tax_credit + (kwh_generated * 0.003)\n",
    "        elif domestic_content == 1 and energy_community == 0:\n",
    "            ptc_tax_credit = ptc_tax_credit + (kwh_generated * 0.003)\n",
    "    else:\n",
    "        ptc_tax_credit = kwh_generated * 0.0055\n",
    "        if domestic_content == 1 and energy_community == 1:\n",
    "            ptc_tax_credit = ptc_tax_credit + 2*(kwh_generated * 0.001)\n",
    "        elif domestic_content == 0 and energy_community == 1:\n",
    "            ptc_tax_credit = ptc_tax_credit + (kwh_generated * 0.001)\n",
    "        elif domestic_content == 1 and energy_community == 0:\n",
    "            ptc_tax_credit = ptc_tax_credit + (kwh_generated * 0.001)\n",
    "    print(\"ITC Tax Credit: \",itc_tax_credit)\n",
    "    print(\"PTC Tax Credit: \",ptc_tax_credit)\n",
    "    \n",
    "    # Check for which is greater (only 1 can be claimed)\n",
    "    if itc_tax_credit >= ptc_tax_credit:\n",
    "        return itc_tax_credit\n",
    "    else:\n",
    "        return ptc_tax_credit"
   ]
  },
  {
   "cell_type": "code",
   "execution_count": 65,
   "id": "a208d360",
   "metadata": {},
   "outputs": [
    {
     "name": "stdout",
     "output_type": "stream",
     "text": [
      "ITC Tax Credit:  840000.0\n",
      "PTC Tax Credit:  373676.47075000004\n",
      "840000.0\n"
     ]
    }
   ],
   "source": [
    "print(ITC_vs_PTC(2800000,13588235.30,labor_requirement,domestic_content,energy_community))"
   ]
  },
  {
   "attachments": {},
   "cell_type": "markdown",
   "id": "de3424e4",
   "metadata": {},
   "source": [
    "## CPACE Finance"
   ]
  },
  {
   "cell_type": "code",
   "execution_count": 13,
   "id": "b4109c0b",
   "metadata": {},
   "outputs": [],
   "source": [
    "# Input Parameters\n",
    "loan_tenure = 10 #years\n",
    "property_value = 2000000 #dollars\n",
    "project_cost = 1000000\n",
    "periods = 12 # monthly"
   ]
  },
  {
   "cell_type": "code",
   "execution_count": 10,
   "id": "d219698b",
   "metadata": {},
   "outputs": [],
   "source": [
    "def CPACE_finance(loan_tenure, property_value, project_cost, periods):\n",
    "    # If the project cost is greater than the property value, 20-30% of the property value is granted as the loan amount.\n",
    "    # We have taken an average of 25% for test\n",
    "    if project_cost >= property_value:\n",
    "        loan_amount = 0.25 * property_value\n",
    "    else:\n",
    "        loan_amount = project_cost\n",
    "        \n",
    "    if loan_tenure <= 10:\n",
    "        max_interest_rate = 0.055\n",
    "        min_interest_rate = 0.05\n",
    "        \n",
    "    elif loan_tenure > 10 and loan_tenure <=15:\n",
    "        max_interest_rate = 0.06\n",
    "        min_interest_rate = 0.055\n",
    "    else:\n",
    "        max_interest_rate = 0.0625\n",
    "        min_interest_rate = 0.06\n",
    "    \n",
    "    total_amount_max = loan_amount * (1 + (max_interest_rate/periods))**(periods*loan_tenure)\n",
    "    total_interest_max = total_amount_max - loan_amount\n",
    "\n",
    "    total_amount_min = loan_amount * (1 + (min_interest_rate/periods))**(periods*loan_tenure)\n",
    "    total_interest_min = total_amount_min - loan_amount\n",
    "    \n",
    "    return total_interest_max, total_interest_min"
   ]
  },
  {
   "cell_type": "code",
   "execution_count": 11,
   "id": "9c79fe0a",
   "metadata": {},
   "outputs": [],
   "source": [
    "max_int, min_int = CPACE_finance(loan_tenure, property_value, project_cost, periods)"
   ]
  },
  {
   "cell_type": "code",
   "execution_count": 12,
   "id": "a9e88aef",
   "metadata": {},
   "outputs": [
    {
     "name": "stdout",
     "output_type": "stream",
     "text": [
      "Max Interest Amount :  731076.4170660307\n",
      "Min Interest Amount :  647009.49769028\n"
     ]
    }
   ],
   "source": [
    "print(\"Max Interest Amount : \",max_int)\n",
    "print(\"Min Interest Amount : \",min_int)"
   ]
  },
  {
   "cell_type": "code",
   "execution_count": null,
   "id": "c8eb9542",
   "metadata": {},
   "outputs": [],
   "source": []
  },
  {
   "cell_type": "code",
   "execution_count": 48,
   "id": "a03215ec",
   "metadata": {},
   "outputs": [],
   "source": [
    "def IRA_179D (energy_eff_lst, bld_sq_footage, Section179D_params):\n",
    "    base_deduction = 0\n",
    "    bonus_deduction = 0\n",
    "    # Base Deduction\n",
    "    IRA_179D_df = []\n",
    "    # result_df = result_df.append({\n",
    "    #         'Energy_Efficiency': efficiency,\n",
    "    #         'Simulation_Result': simulation_result\n",
    "    #     }, ignore_index=True)\n",
    "    for energy_eff in energy_eff_lst:\n",
    "        if energy_eff >= Section179D_params['Energy_Efficiency_High']:\n",
    "            base_deduction = Section179D_params['Base_Deduction_High'] * bld_sq_footage\n",
    "        elif energy_eff > Section179D_params['Energy_Efficiency_Low'] \\\n",
    "            and energy_eff < Section179D_params['Energy_Efficiency_High']:\n",
    "            additional_percent = energy_eff - Section179D_params['Energy_Efficiency_Low']\n",
    "            base_deduction = Section179D_params['Base_Deduction_Low'] * bld_sq_footage\n",
    "            base_deduction = base_deduction + \\\n",
    "                            (Section179D_params['Base_Deduction_Inc'] * additional_percent * bld_sq_footage)\n",
    "        else:\n",
    "            base_deduction = Section179D_params['Base_Deduction_Low'] * bld_sq_footage\n",
    "        \n",
    "        # Bonus Deduction\n",
    "        if (Section179D_params['Prevailing_Wages_Law'] == 1 and Section179D_params['Apprenticeship_Hours_Met'] == 1):\n",
    "            if energy_eff >= Section179D_params['Energy_Efficiency_High']:\n",
    "                bonus_deduction = Section179D_params['Bonus_Deduction_High'] * bld_sq_footage\n",
    "            elif energy_eff > Section179D_params['Energy_Efficiency_Low'] \\\n",
    "                and energy_eff < Section179D_params['Energy_Efficiency_High']:\n",
    "                additional_percent = energy_eff - Section179D_params['Energy_Efficiency_Low']\n",
    "                bonus_deduction = Section179D_params['Bonus_Deduction_Low'] * bld_sq_footage\n",
    "                bonus_deduction = bonus_deduction + \\\n",
    "                                (Section179D_params['Bonus_Deduction_Inc'] * additional_percent * bld_sq_footage)\n",
    "            else:\n",
    "                bonus_deduction = Section179D_params['Bonus_Deduction_Low'] * bld_sq_footage\n",
    "        IRA_179D_df.append({\n",
    "            \"Program Name\" : \"IRA Section 179D\",\n",
    "            \"Energy Efficiency\" : energy_eff,\n",
    "            \"Prevailing Wage & Apprenticeship Rule\" : \"TRUE\",\n",
    "            \"Base Deduction\" : base_deduction,\n",
    "            \"Bonus Deduction\" : bonus_deduction\n",
    "        })\n",
    "        result_df = pd.DataFrame(IRA_179D_df)\n",
    "    return result_df"
   ]
  },
  {
   "cell_type": "code",
   "execution_count": 53,
   "id": "dceb9ace",
   "metadata": {},
   "outputs": [],
   "source": [
    "Section179D_params = {\n",
    "    'Base_Deduction_High' : 1.00,\n",
    "    'Base_Deduction_Low' : 0.50,\n",
    "    'Base_Deduction_Inc' : 0.02,\n",
    "    'Bonus_Deduction_High' : 5.00,\n",
    "    'Bonus_Deduction_Low' : 2.50,\n",
    "    'Bonus_Deduction_Inc' : 0.10,\n",
    "    'Energy_Efficiency_Low' : 0.25,\n",
    "    'Energy_Efficiency_High' : 0.50,\n",
    "    'Prevailing_Wages_Law' : 1,\n",
    "    'Apprenticeship_Hours_Met' : 1,\n",
    "    }\n",
    "\n",
    "energy_eff_lst = [0.25, 0.5]\n",
    "buildingArea = 174960.0444"
   ]
  },
  {
   "cell_type": "code",
   "execution_count": 54,
   "id": "3a061070",
   "metadata": {},
   "outputs": [
    {
     "name": "stdout",
     "output_type": "stream",
     "text": [
      "       Program Name  Energy Efficiency Prevailing Wage & Apprenticeship Rule  \\\n",
      "0  IRA Section 179D               0.25                                  TRUE   \n",
      "1  IRA Section 179D               0.50                                  TRUE   \n",
      "\n",
      "   Base Deduction  Bonus Deduction  \n",
      "0      87480.0222       437400.111  \n",
      "1     174960.0444       874800.222  \n"
     ]
    }
   ],
   "source": [
    "print(IRA_179D(energy_eff_lst, buildingArea, Section179D_params))"
   ]
  },
  {
   "cell_type": "code",
   "execution_count": 66,
   "id": "0ec55768",
   "metadata": {},
   "outputs": [],
   "source": [
    "def ITC_vs_PTC(project_cost,kwh_generated,labor_requirement,domestic_content,energy_community):\n",
    "    # ITC Calculation\n",
    "    if labor_requirement == 1:\n",
    "        itc_tax_credit = project_cost * 0.30\n",
    "        if domestic_content == 1 and energy_community == 1:\n",
    "            itc_tax_credit = itc_tax_credit + 2*(project_cost * 0.10)\n",
    "        elif domestic_content == 0 and energy_community == 1:\n",
    "            itc_tax_credit = itc_tax_credit + (project_cost * 0.10)\n",
    "        elif domestic_content == 1 and energy_community == 0:\n",
    "            itc_tax_credit = itc_tax_credit + (project_cost * 0.10)\n",
    "    else:\n",
    "        itc_tax_credit = project_cost * 0.06\n",
    "        if domestic_content == 1 and energy_community == 1:\n",
    "            itc_tax_credit = itc_tax_credit + 2*(project_cost * 0.02)\n",
    "        elif domestic_content == 0 and energy_community == 1:\n",
    "            itc_tax_credit = itc_tax_credit + (project_cost * 0.02)\n",
    "        elif domestic_content == 1 and energy_community == 0:\n",
    "            itc_tax_credit = itc_tax_credit + (project_cost * 0.02)\n",
    "            \n",
    "    # PTC Calculation\n",
    "    if labor_requirement == 1:\n",
    "        ptc_tax_credit = kwh_generated * 0.0275\n",
    "        if domestic_content == 1 and energy_community == 1:\n",
    "            ptc_tax_credit = ptc_tax_credit + 2*(kwh_generated * 0.003)\n",
    "        elif domestic_content == 0 and energy_community == 1:\n",
    "            ptc_tax_credit = ptc_tax_credit + (kwh_generated * 0.003)\n",
    "        elif domestic_content == 1 and energy_community == 0:\n",
    "            ptc_tax_credit = ptc_tax_credit + (kwh_generated * 0.003)\n",
    "    else:\n",
    "        ptc_tax_credit = kwh_generated * 0.0055\n",
    "        if domestic_content == 1 and energy_community == 1:\n",
    "            ptc_tax_credit = ptc_tax_credit + 2*(kwh_generated * 0.001)\n",
    "        elif domestic_content == 0 and energy_community == 1:\n",
    "            ptc_tax_credit = ptc_tax_credit + (kwh_generated * 0.001)\n",
    "        elif domestic_content == 1 and energy_community == 0:\n",
    "            ptc_tax_credit = ptc_tax_credit + (kwh_generated * 0.001)\n",
    "    print(\"ITC Tax Credit: \",itc_tax_credit)\n",
    "    print(\"PTC Tax Credit: \",ptc_tax_credit)\n",
    "    \n",
    "    # Check for which is greater (only 1 can be claimed)\n",
    "    if itc_tax_credit >= ptc_tax_credit:\n",
    "        return itc_tax_credit\n",
    "    else:\n",
    "        return ptc_tax_credit"
   ]
  },
  {
   "cell_type": "code",
   "execution_count": null,
   "id": "27cbea8f",
   "metadata": {},
   "outputs": [],
   "source": [
    "ITC_PTC_Params = {\n",
    "    \"project_rate\" : 8,\n",
    "    \"project_kWh\" : 10000,\n",
    "    \"domestic_content\" : True,\n",
    "    \"energy_community\" : True\n",
    "}"
   ]
  },
  {
   "cell_type": "code",
   "execution_count": null,
   "id": "fd689be0",
   "metadata": {},
   "outputs": [],
   "source": [
    "def IRA_ITC(buildingArea):\n",
    "    IRA_ITC_lst = []\n",
    "    project_cost = buildingArea * ITC_PTC_Params[\"project_rate\"]\n",
    "    itc_tax_credit = project_cost * 0.30\n",
    "    bonus_amt = project_cost * 0.10\n",
    "    IRA_ITC_lst.append({\n",
    "            \"Program Name\" : \"IRA - Investment Tax Credit\",\n",
    "            \"Domestic Content\" : \"TRUE\",\n",
    "            \"Energy Community\" : \"TRUE\",\n",
    "            \"Low-Income Community\" : \"TRUE\",\n",
    "            \"Amount\" : itc_tax_credit\n",
    "        },\n",
    "        {\n",
    "            \"Program Name\" : \"IRA - Investment Tax Credit\",\n",
    "            \"Domestic Content\" : bonus_amt,\n",
    "            \"Energy Community\" : bonus_amt,\n",
    "            \"Low-Income Community\" : bonus_amt,\n",
    "            \"Amount\" : itc_tax_credit + 3*bonus_amt\n",
    "        }\n",
    "    )\n",
    "    result_df = pd.DataFrame(IRA_ITC_lst)\n",
    "    return result_df\n",
    "   \n"
   ]
  }
 ],
 "metadata": {
  "kernelspec": {
   "display_name": "Python 3 (ipykernel)",
   "language": "python",
   "name": "python3"
  },
  "language_info": {
   "codemirror_mode": {
    "name": "ipython",
    "version": 3
   },
   "file_extension": ".py",
   "mimetype": "text/x-python",
   "name": "python",
   "nbconvert_exporter": "python",
   "pygments_lexer": "ipython3",
   "version": "3.11.0"
  }
 },
 "nbformat": 4,
 "nbformat_minor": 5
}
